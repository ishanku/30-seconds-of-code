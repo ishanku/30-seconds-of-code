{
  "nbformat": 4,
  "nbformat_minor": 0,
  "metadata": {
    "colab": {
      "provenance": [],
      "authorship_tag": "ABX9TyM6Fl3uwWgNcT1h4KYLaNxu",
      "include_colab_link": true
    },
    "kernelspec": {
      "name": "python3",
      "display_name": "Python 3"
    },
    "language_info": {
      "name": "python"
    }
  },
  "cells": [
    {
      "cell_type": "markdown",
      "metadata": {
        "id": "view-in-github",
        "colab_type": "text"
      },
      "source": [
        "<a href=\"https://colab.research.google.com/github/ishanku/30-seconds-of-code/blob/master/Store.ipynb\" target=\"_parent\"><img src=\"https://colab.research.google.com/assets/colab-badge.svg\" alt=\"Open In Colab\"/></a>"
      ]
    },
    {
      "cell_type": "code",
      "execution_count": 1,
      "metadata": {
        "colab": {
          "base_uri": "https://localhost:8080/"
        },
        "id": "2xHojf-59kmO",
        "outputId": "179fc501-7363-4468-eaad-937b67f1f3c4"
      },
      "outputs": [
        {
          "output_type": "stream",
          "name": "stdout",
          "text": [
            "Mounted at /content/drive\n"
          ]
        }
      ],
      "source": [
        "from google.colab import drive\n",
        "drive.mount('/content/drive')"
      ]
    },
    {
      "cell_type": "code",
      "source": [
        "import numpy as np\n",
        "import pandas as pd\n",
        "import tensorflow as tf\n",
        "from matplotlib import pyplot as plt\n",
        "import statsmodels.formula.api as sm"
      ],
      "metadata": {
        "id": "KXlh-UQw-NSl"
      },
      "execution_count": 29,
      "outputs": []
    },
    {
      "cell_type": "code",
      "source": [
        "!ls drive/MyDrive/store.csv"
      ],
      "metadata": {
        "colab": {
          "base_uri": "https://localhost:8080/"
        },
        "id": "N1CB9s8J94ip",
        "outputId": "ffa9b995-e072-4580-95e5-8e6c675b166a"
      },
      "execution_count": 27,
      "outputs": [
        {
          "output_type": "stream",
          "name": "stdout",
          "text": [
            "drive/MyDrive/store.csv\n"
          ]
        }
      ]
    },
    {
      "cell_type": "code",
      "source": [
        "df = pd.read_csv('drive/MyDrive/store.csv')"
      ],
      "metadata": {
        "id": "SK9xuYt9-E3l"
      },
      "execution_count": 28,
      "outputs": []
    },
    {
      "source": [
        "model = sm.ols('Sales ~ MTenure + CTenure + ServQual', data=df)\n",
        "results = model.fit()"
      ],
      "cell_type": "code",
      "metadata": {
        "id": "jUGf3NhsBk32"
      },
      "execution_count": 33,
      "outputs": []
    },
    {
      "cell_type": "code",
      "source": [
        "print(results.summary())"
      ],
      "metadata": {
        "colab": {
          "base_uri": "https://localhost:8080/"
        },
        "id": "cOoAfpVgB9KW",
        "outputId": "9067c0f0-a389-4844-f20b-f249d4e9bbe0"
      },
      "execution_count": 32,
      "outputs": [
        {
          "output_type": "stream",
          "name": "stdout",
          "text": [
            "                            OLS Regression Results                            \n",
            "==============================================================================\n",
            "Dep. Variable:                  Sales   R-squared:                       0.321\n",
            "Model:                            OLS   Adj. R-squared:                  0.292\n",
            "Method:                 Least Squares   F-statistic:                     11.18\n",
            "Date:                Sat, 11 Jan 2025   Prob (F-statistic):           4.28e-06\n",
            "Time:                        15:42:22   Log-Likelihood:                -1038.4\n",
            "No. Observations:                  75   AIC:                             2085.\n",
            "Df Residuals:                      71   BIC:                             2094.\n",
            "Df Model:                           3                                         \n",
            "Covariance Type:            nonrobust                                         \n",
            "==============================================================================\n",
            "                 coef    std err          t      P>|t|      [0.025      0.975]\n",
            "------------------------------------------------------------------------------\n",
            "Intercept   4.349e+05   2.09e+05      2.084      0.041    1.88e+04    8.51e+05\n",
            "MTenure     1925.1695    540.079      3.565      0.001     848.283    3002.056\n",
            "CTenure     2418.1040   1736.410      1.393      0.168   -1044.200    5880.408\n",
            "ServQual    7453.9557   2403.048      3.102      0.003    2662.414    1.22e+04\n",
            "==============================================================================\n",
            "Omnibus:                        3.184   Durbin-Watson:                   1.818\n",
            "Prob(Omnibus):                  0.203   Jarque-Bera (JB):                2.947\n",
            "Skew:                           0.483   Prob(JB):                        0.229\n",
            "Kurtosis:                       2.908   Cond. No.                         740.\n",
            "==============================================================================\n",
            "\n",
            "Notes:\n",
            "[1] Standard Errors assume that the covariance matrix of the errors is correctly specified.\n"
          ]
        }
      ]
    },
    {
      "cell_type": "markdown",
      "source": [],
      "metadata": {
        "id": "i16e3QiqB3vd"
      }
    },
    {
      "cell_type": "markdown",
      "source": [
        "##MTenure:\n",
        "##Estimate: 1925.1695\n",
        "##P-value: 0.001\n",
        "\n",
        "###Every one-unit increase in 'MTenure', 'Sales' is expected to increase by 1925.1695 units, holding other variables constant."
      ],
      "metadata": {
        "id": "0bDZolorFEsO"
      }
    },
    {
      "cell_type": "markdown",
      "source": [],
      "metadata": {
        "id": "prEiGBswFCGL"
      }
    },
    {
      "cell_type": "markdown",
      "source": [
        "### CTenure:\n",
        "#### Estimate: 2418.1040\n",
        "#### P-value: 0.168\n",
        "##### This suggests that for every one-unit increase in 'CTenure', 'Sales' is expected to increase by 2418.1040 units, holding other variables constant. However, the p-value is greater than 0.05, indicating that this coefficient is not statistically significant. This means that we don't have enough evidence to conclude that 'CTenure' has a significant impact on 'Sales'."
      ],
      "metadata": {
        "id": "817rS6g2FSHb"
      }
    },
    {
      "cell_type": "markdown",
      "source": [
        "### ServQual:\n",
        "#### Estimate: 7453.9557\n",
        "#### P-value: 0.003\n",
        "##### This implies that for every one-unit increase in 'ServQual', 'Sales' is expected to increase by 7453.9557 units, holding other variables constant. The p-value is less than 0.05, indicating that this coefficient is statistically significant.\n",
        "###### 1.'MTenure' and 'ServQual' have statistically significant positive effects on 'Sales'.\n",
        "###### 2.'CTenure' does not have a statistically significant effect on 'Sales' based on this model."
      ],
      "metadata": {
        "id": "r0aF7BepFOiQ"
      }
    },
    {
      "cell_type": "code",
      "source": [
        "model = sm.ols('Sales ~ MTenure + CTenure + + PedCount +  ServQual + Pop + Comp + MgrSkill + CrewSkill', data=df)\n",
        "results = model.fit()"
      ],
      "metadata": {
        "id": "C7OzHxaIEvOy"
      },
      "execution_count": 36,
      "outputs": []
    },
    {
      "cell_type": "code",
      "source": [
        "print(results.summary())"
      ],
      "metadata": {
        "colab": {
          "base_uri": "https://localhost:8080/"
        },
        "id": "2aKMPrayGfB0",
        "outputId": "575d0ed2-486e-4c69-ceb8-f7a118c1bc02"
      },
      "execution_count": 38,
      "outputs": [
        {
          "output_type": "stream",
          "name": "stdout",
          "text": [
            "                            OLS Regression Results                            \n",
            "==============================================================================\n",
            "Dep. Variable:                  Sales   R-squared:                       0.581\n",
            "Model:                            OLS   Adj. R-squared:                  0.530\n",
            "Method:                 Least Squares   F-statistic:                     11.44\n",
            "Date:                Sat, 11 Jan 2025   Prob (F-statistic):           5.09e-10\n",
            "Time:                        16:02:33   Log-Likelihood:                -1020.3\n",
            "No. Observations:                  75   AIC:                             2059.\n",
            "Df Residuals:                      66   BIC:                             2079.\n",
            "Df Model:                           8                                         \n",
            "Covariance Type:            nonrobust                                         \n",
            "==============================================================================\n",
            "                 coef    std err          t      P>|t|      [0.025      0.975]\n",
            "------------------------------------------------------------------------------\n",
            "Intercept   1.171e+05   3.43e+05      0.341      0.734   -5.69e+05    8.03e+05\n",
            "MTenure     2038.2223    460.418      4.427      0.000    1118.968    2957.477\n",
            "CTenure     2265.5458   1502.953      1.507      0.136    -735.198    5266.289\n",
            "PedCount    8.297e+04   3.18e+04      2.611      0.011    1.95e+04    1.46e+05\n",
            "ServQual    5843.2207   2114.760      2.763      0.007    1620.966    1.01e+04\n",
            "Pop            8.1030      5.577      1.453      0.151      -3.033      19.239\n",
            "Comp       -5.803e+04   2.03e+04     -2.858      0.006   -9.86e+04   -1.75e+04\n",
            "MgrSkill    1.039e+05   6.73e+04      1.543      0.128   -3.05e+04    2.38e+05\n",
            "CrewSkill  -8128.1265   6.56e+04     -0.124      0.902   -1.39e+05    1.23e+05\n",
            "==============================================================================\n",
            "Omnibus:                        7.199   Durbin-Watson:                   2.185\n",
            "Prob(Omnibus):                  0.027   Jarque-Bera (JB):                6.515\n",
            "Skew:                           0.636   Prob(JB):                       0.0385\n",
            "Kurtosis:                       3.685   Cond. No.                     1.65e+05\n",
            "==============================================================================\n",
            "\n",
            "Notes:\n",
            "[1] Standard Errors assume that the covariance matrix of the errors is correctly specified.\n",
            "[2] The condition number is large, 1.65e+05. This might indicate that there are\n",
            "strong multicollinearity or other numerical problems.\n"
          ]
        }
      ]
    },
    {
      "cell_type": "markdown",
      "source": [
        "\n",
        "R-squared: 0.581 - This indicates that the model explains 58.1% of the variance in 'Sales'. This is a moderate level of explanatory power.\n",
        "\n",
        "Adj. R-squared: 0.530 - This is a slightly lower value than R-squared, adjusted for the number of predictors in the model. It's still a decent fit.\n",
        "\n",
        "F-statistic: 11.44, with a very low p-value (5.09e-10) - This indicates that\n",
        "the overall model is statistically significant, meaning that at least one of the predictors has a significant relationship with 'Sales'.\n",
        "```\n",
        "# This is formatted as code\n",
        "```\n",
        "\n"
      ],
      "metadata": {
        "id": "12lTV_5sGzx5"
      }
    },
    {
      "cell_type": "markdown",
      "source": [
        "Coefficients and their Significance:\n",
        "\n",
        "Intercept: 1.171e+05 (117,100) with a p-value of 0.734 - This is not\n",
        "statistically significant, meaning it's not reliably different from zero.\n",
        "\n",
        "MTenure: 2038.2223 with a p-value of 0.000 - This is statistically significant and positive. It suggests that for every one-unit increase in 'MTenure', 'Sales' is expected to increase by about 2038 units, holding other variables\n",
        "constant.\n",
        "\n",
        "CTenure: 2265.5458 with a p-value of 0.136 - This is not statistically significant at the conventional 0.05 level. While the coefficient is positive, there's not enough evidence to say it has a reliable impact on 'Sales'.\n",
        "\n",
        "PedCount: 8.297e+04 (82,970) with a p-value of 0.011 - This is statistically significant and positive. An increase in 'PedCount' is associated with a substantial increase in 'Sales'.\n",
        "\n",
        "ServQual: 5843.2207 with a p-value of 0.007 - This is statistically significant and positive, indicating a positive relationship with 'Sales'.\n",
        "\n",
        "Pop: 8.1030 with a p-value of 0.151 - This is not statistically significant.\n",
        "\n",
        "Comp: -5.803e+04 (-58,030) with a p-value of 0.006 - This is statistically significant and negative, suggesting that an increase in 'Comp' is associated with a decrease in 'Sales'.\n",
        "\n",
        "MgrSkill: 1.039e+05 (103,900) with a p-value of 0.128 - This is not statistically significant.\n",
        "\n",
        "CrewSkill: -8128.1265 with a p-value of 0.902 - This is not statistically significant and has a negative coefficient, but it's not reliable given the high p-value.\n",
        "\n",
        "In summary:\n",
        "The model suggests that 'MTenure', 'PedCount', 'ServQual', and 'Comp' are the most important predictors of 'Sales' in this dataset. 'MTenure', 'PedCount', and 'ServQual' have positive relationships with 'Sales', while 'Comp' has a negative relationship. The other variables in the model do not have statistically significant effects on 'Sales' based on these results.\n",
        "Important Notes:\n",
        "Causation: Remember that correlation does not equal causation. These results show associations, but further analysis would be needed to establish causal relationships.\n",
        "\n",
        "Assumptions: OLS regression has assumptions (linearity, independence of errors, etc.). Does these assumptions are met for the validity of the results ?\n",
        "\n",
        "Context: Interpretation of the results in the context of specific business or research question can impact. The practical significance of the coefficients is important to consider alongside statistical significance."
      ],
      "metadata": {
        "id": "AEwQKo-DHAiV"
      }
    }
  ]
}